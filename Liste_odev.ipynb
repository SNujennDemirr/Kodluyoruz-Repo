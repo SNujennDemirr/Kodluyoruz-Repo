{
  "cells": [
    {
      "cell_type": "markdown",
      "metadata": {
        "id": "view-in-github",
        "colab_type": "text"
      },
      "source": [
        "<a href=\"https://colab.research.google.com/github/SNujennDemirr/Kodluyoruz-Repo/blob/main/Liste_odev.ipynb\" target=\"_parent\"><img src=\"https://colab.research.google.com/assets/colab-badge.svg\" alt=\"Open In Colab\"/></a>"
      ]
    },
    {
      "cell_type": "markdown",
      "metadata": {
        "id": "KoPTrQiDYUfS"
      },
      "source": [
        "### Ödev 1\n",
        "\n",
        "liste = [\"Python\",True,9,\"3\",8.4,\"Hi-Kod\",\"False\",4.7]\n",
        "\n",
        "1. Aşağıdaki işlemleri indexing ve slicing kullanarak liste üzerinde uygulayın.\n",
        "\n",
        "   - \"3\" değerine ulaşmak için indexleme yapın.\n",
        "   - \"Hi-Kod\" değerine ulaşmak için indexleme yapın.\n",
        "   - 4.7 değerine ulaşmak için indexleme yapın.\n",
        "   - 9,\"3\",8.4,\"Hi-Kod\" değerlerine ulaşmak için slicing yapın.\n",
        "   - 8.4,\"Hi-Kod\",\"False\",4.7 değerlerine ulaşmak için slicing yapın."
      ]
    },
    {
      "cell_type": "code",
      "execution_count": 1,
      "metadata": {
        "id": "99fmrVqGYUfT",
        "outputId": "263d1523-2eb3-49a9-f684-2935a33b7779",
        "colab": {
          "base_uri": "https://localhost:8080/"
        }
      },
      "outputs": [
        {
          "output_type": "stream",
          "name": "stdout",
          "text": [
            "3\n",
            "Hi-Kod\n",
            "4.7\n",
            "[9, '3', 8.4, 'Hi-Kod']\n",
            "[8.4, 'Hi-Kod', 'False', 4.7]\n"
          ]
        }
      ],
      "source": [
        "liste = [\"Python\", True, 9, \"3\", 8.4, \"Hi-Kod\", \"False\", 4.7]\n",
        "\n",
        "print(liste[3])      # \"3\"\n",
        "print(liste[5])      # \"Hi-Kod\"\n",
        "print(liste[7])      # 4.7\n",
        "print(liste[2:6])    # [9, \"3\", 8.4, \"Hi-Kod\"]\n",
        "print(liste[4:8])    # [8.4, \"Hi-Kod\", \"False\", 4.7]\n"
      ]
    },
    {
      "cell_type": "markdown",
      "metadata": {
        "id": "3IrrETMIYUfU"
      },
      "source": [
        "### Ödev 2\n",
        "\n",
        "Verilen listede bulunan string veri tipindeki öğeleri yeni_liste isimli listeye eklenir.\n",
        "\n",
        "liste = [\"Python\",True,9,\"3\",8.4,\"Hi-Kod\",\"False\",4.7]"
      ]
    },
    {
      "cell_type": "code",
      "execution_count": 2,
      "metadata": {
        "id": "9MrXZ7aKYUfU",
        "outputId": "e20038ce-0961-434e-eca0-d6ad905401f3",
        "colab": {
          "base_uri": "https://localhost:8080/"
        }
      },
      "outputs": [
        {
          "output_type": "stream",
          "name": "stdout",
          "text": [
            "['Python', '3', 'Hi-Kod', 'False']\n"
          ]
        }
      ],
      "source": [
        "liste = [\"Python\", True, 9, \"3\", 8.4, \"Hi-Kod\", \"False\", 4.7]\n",
        "\n",
        "yeni_liste = [eleman for eleman in liste if isinstance(eleman, str)]\n",
        "\n",
        "print(yeni_liste)  # Çıktı: ['Python', '3', 'Hi-Kod', 'False']\n"
      ]
    },
    {
      "cell_type": "markdown",
      "metadata": {
        "id": "WFCyvMXDYUfU"
      },
      "source": [
        "### Ödev 3\n",
        "\n",
        "Enumerate methodunu araştırın ve aşağıdaki örneği enumerate methodu ile yapın."
      ]
    },
    {
      "cell_type": "code",
      "execution_count": 3,
      "metadata": {
        "id": "sM8Ho75bYUfU",
        "outputId": "5c065e7c-52ea-401a-f470-18777f540e7c",
        "colab": {
          "base_uri": "https://localhost:8080/"
        }
      },
      "outputs": [
        {
          "output_type": "stream",
          "name": "stdout",
          "text": [
            "0. indexte bulunan meyve: Elma\n",
            "1. indexte bulunan meyve: Armut\n",
            "2. indexte bulunan meyve: Muz\n",
            "3. indexte bulunan meyve: Çilek\n"
          ]
        }
      ],
      "source": [
        "meyveler = [\"Elma\", \"Armut\", \"Muz\", \"Çilek\"]\n",
        "\n",
        "for index, meyve in enumerate(meyveler):\n",
        "    print(\"{}. indexte bulunan meyve: {}\".format(index, meyve))\n"
      ]
    },
    {
      "cell_type": "markdown",
      "metadata": {
        "id": "8qAGUKXOYUfV"
      },
      "source": []
    }
  ],
  "metadata": {
    "language_info": {
      "name": "python"
    },
    "colab": {
      "provenance": [],
      "include_colab_link": true
    },
    "kernelspec": {
      "name": "python3",
      "display_name": "Python 3"
    }
  },
  "nbformat": 4,
  "nbformat_minor": 0
}