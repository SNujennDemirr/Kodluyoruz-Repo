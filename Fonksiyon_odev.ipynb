{
  "cells": [
    {
      "cell_type": "markdown",
      "metadata": {
        "id": "view-in-github",
        "colab_type": "text"
      },
      "source": [
        "<a href=\"https://colab.research.google.com/github/SNujennDemirr/Kodluyoruz-Repo/blob/main/Fonksiyon_odev.ipynb\" target=\"_parent\"><img src=\"https://colab.research.google.com/assets/colab-badge.svg\" alt=\"Open In Colab\"/></a>"
      ]
    },
    {
      "cell_type": "markdown",
      "metadata": {
        "id": "grIqZ9UZVjlp"
      },
      "source": [
        "#### Ödev 1\n",
        "Kullanıcıdan pi değeri ve yarıçap bilgisi alarak dairenin alanını hesaplayan bir fonksiyon oluşturulur."
      ]
    },
    {
      "cell_type": "code",
      "execution_count": null,
      "metadata": {
        "vscode": {
          "languageId": "plaintext"
        },
        "id": "6Y0_LD7KVjlr"
      },
      "outputs": [],
      "source": [
        "def daire_alani_hesapla():\n",
        "    pi = float(input(\"Pi değerini girin: \"))\n",
        "    yaricap = float(input(\"Yarıçapı girin: \"))\n",
        "    alan = pi * (yaricap ** 2)\n",
        "    print(f\"Dairenin alanı: {alan}\")\n",
        "\n",
        "daire_alani_hesapla()\n"
      ]
    },
    {
      "cell_type": "markdown",
      "metadata": {
        "id": "CAeHxtK9Vjlr"
      },
      "source": [
        "#### Ödev 2\n",
        "\n",
        "Faktöriyel adında fonksiyon oluşturulur. Döngü kullanarak parametre olarak girilen sayının faktöriyeli hesaplanır. Format metodunu kullanılarak ekrana yazdırılır."
      ]
    },
    {
      "cell_type": "code",
      "execution_count": null,
      "metadata": {
        "vscode": {
          "languageId": "plaintext"
        },
        "id": "dZVLllpEVjls"
      },
      "outputs": [],
      "source": [
        "def faktoriyel(n):\n",
        "    sonuc = 1\n",
        "    for i in range(1, n + 1):\n",
        "        sonuc *= i\n",
        "    print(\"Girilen sayının faktöriyeli: {}\".format(sonuc))\n",
        "\n",
        "sayi = int(input(\"Bir sayı girin: \"))\n",
        "faktoriyel(sayi)\n"
      ]
    },
    {
      "cell_type": "markdown",
      "metadata": {
        "id": "KtiB3YEBVjls"
      },
      "source": [
        "#### Ödev 3\n",
        "Kişinin fonksiyona doğum yılını vererek kaç yaşında olduğunu hesaplayan bir fonksiyon oluşturun."
      ]
    },
    {
      "cell_type": "code",
      "execution_count": null,
      "metadata": {
        "vscode": {
          "languageId": "plaintext"
        },
        "id": "m3uOPq-iVjls"
      },
      "outputs": [],
      "source": [
        "from datetime import datetime\n",
        "\n",
        "def yas_hesapla(dogum_yili):\n",
        "    mevcut_yil = datetime.now().year\n",
        "    yas = mevcut_yil - dogum_yili\n",
        "    print(\"Yaşınız: {}\".format(yas))\n",
        "\n",
        "dogum_yili = int(input(\"Doğum yılınızı girin: \"))\n",
        "yas_hesapla(dogum_yili)\n"
      ]
    },
    {
      "cell_type": "markdown",
      "metadata": {
        "id": "wr2YeJE0Vjls"
      },
      "source": [
        "#### Ödev 4\n",
        "\n",
        "Doğum yılı ve isim bilgisi verilen fonksiyon kişinin emekli olup olmadığını söylesin.(Kişi 65 yaşında ise emekli olur.) Burada yaş hesabını yukarıdaki örnekteki fonksiyonu kullanarak yapsın.(Yani fonksiyon içinde fonksiyon kullanmanızı istiyorum :)) Kişi 65 yaşında ya da daha fazlaysa \"Emekli oldunuz\" yanıtını, 65 yaşından küçükse emekliliğine kaç yıl kaldığını da hesaplayarak \"(isim) emekliliğine (yıl) kaldı.\" yanıtını versin."
      ]
    },
    {
      "cell_type": "code",
      "execution_count": null,
      "metadata": {
        "vscode": {
          "languageId": "plaintext"
        },
        "id": "RC4IGATwVjls"
      },
      "outputs": [],
      "source": []
    }
  ],
  "metadata": {
    "language_info": {
      "name": "python"
    },
    "colab": {
      "provenance": [],
      "include_colab_link": true
    }
  },
  "nbformat": 4,
  "nbformat_minor": 0
}