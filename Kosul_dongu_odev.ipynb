{
  "cells": [
    {
      "cell_type": "markdown",
      "metadata": {
        "id": "view-in-github",
        "colab_type": "text"
      },
      "source": [
        "<a href=\"https://colab.research.google.com/github/SNujennDemirr/Kodluyoruz-Repo/blob/main/Kosul_dongu_odev.ipynb\" target=\"_parent\"><img src=\"https://colab.research.google.com/assets/colab-badge.svg\" alt=\"Open In Colab\"/></a>"
      ]
    },
    {
      "cell_type": "markdown",
      "id": "409f0f4a",
      "metadata": {
        "id": "409f0f4a"
      },
      "source": [
        "**Ödev-1:** Kullanıcıdan maaş bilgisini istenir ve bu bilgiye göre maaşından ne kadar vergi kesileceğini hesaplanır. Kullanıcının geliri;\n",
        "\n",
        "1. 10000 ve altındaysa maaşından %5 kesinti olur.\n",
        "2. 25000 ve altındaysa maaşından %10 kesinti olur.\n",
        "3. 45000 ve altındaysa maaşından %25 kesinti olur.\n",
        "4. Diğer koşullarda %30 kesinti olur.\n",
        "\n",
        "Bu durumlara göre kullanıcının yeni maaşı yazdırılır."
      ]
    },
    {
      "cell_type": "code",
      "execution_count": 1,
      "id": "5246e510",
      "metadata": {
        "id": "5246e510",
        "outputId": "4c2c7c12-3788-4909-d7e4-ceb763538ab9",
        "colab": {
          "base_uri": "https://localhost:8080/"
        }
      },
      "outputs": [
        {
          "output_type": "stream",
          "name": "stdout",
          "text": [
            "Maaşınızı girin: 15000\n",
            "Vergi kesintisi: 1500.00\n",
            "Yeni maaşınız: 13500.00\n"
          ]
        }
      ],
      "source": [
        "def vergi_hesapla():\n",
        "    maas = float(input(\"Maaşınızı girin: \"))\n",
        "\n",
        "    if maas <= 10000:\n",
        "        vergi_orani = 0.05\n",
        "    elif maas <= 25000:\n",
        "        vergi_orani = 0.10\n",
        "    elif maas <= 45000:\n",
        "        vergi_orani = 0.25\n",
        "    else:\n",
        "        vergi_orani = 0.30\n",
        "\n",
        "    kesinti = maas * vergi_orani\n",
        "    yeni_maas = maas - kesinti\n",
        "\n",
        "    print(\"Vergi kesintisi: {:.2f}\".format(kesinti))\n",
        "    print(\"Yeni maaşınız: {:.2f}\".format(yeni_maas))\n",
        "\n",
        "vergi_hesapla()\n"
      ]
    },
    {
      "cell_type": "markdown",
      "id": "f5fe8798",
      "metadata": {
        "id": "f5fe8798"
      },
      "source": [
        "**Ödev-2:** Kullanıcıdan kullanıcı adı ve şifre oluşturmasını istenir. Şifrenin uzunluğu altı haneye ulaşmışsa hesabınız oluşturuldu mesajı alınır, altı haneden azsa altı haneli şifre oluşturması gerektiğinin mesajı alınır. *(Sadece koşul kullanılması yeterli.)*"
      ]
    },
    {
      "cell_type": "code",
      "execution_count": 2,
      "id": "6acffe57",
      "metadata": {
        "id": "6acffe57",
        "outputId": "a479e30e-a124-41d0-da48-fc1120368a9e",
        "colab": {
          "base_uri": "https://localhost:8080/"
        }
      },
      "outputs": [
        {
          "output_type": "stream",
          "name": "stdout",
          "text": [
            "Kullanıcı adınızı girin: nujendd\n",
            "Şifrenizi girin: xyzre\n",
            "Şifreniz en az 6 haneli olmalıdır.\n"
          ]
        }
      ],
      "source": [
        "def hesap_olustur():\n",
        "    kullanici_adi = input(\"Kullanıcı adınızı girin: \")\n",
        "    sifre = input(\"Şifrenizi girin: \")\n",
        "\n",
        "    if len(sifre) >= 6:\n",
        "        print(\"Hesabınız oluşturuldu.\")\n",
        "    else:\n",
        "        print(\"Şifreniz en az 6 haneli olmalıdır.\")\n",
        "\n",
        "hesap_olustur()\n"
      ]
    },
    {
      "cell_type": "markdown",
      "id": "aaccf11a",
      "metadata": {
        "id": "aaccf11a"
      },
      "source": [
        "**Ödev-3:** Bir önceki örnek geliştirilir.\n",
        "\n",
        "1. Kullanıcı girdiği şifre 5 ve 10 hane arasında olmak zorunda.\n",
        "2. Eğer bu koşula uyuyorsa \"Hesabınız oluşturuldu.\" mesajı alır.\n",
        "3. Koşulu sağlamıyorsa \"Lütfen girdiniz şifre 5 haneden az 10 haneden fazla olmasın!\" uyarısı alır.\n",
        "4. Bunu oluştururken kullanıcı istediğimiz şartlarda şifre oluşturana kadar sormaya devam eder"
      ]
    },
    {
      "cell_type": "code",
      "execution_count": 3,
      "id": "039e50dc",
      "metadata": {
        "id": "039e50dc",
        "outputId": "b62b576c-3e6b-486c-967d-cb988b6b966d",
        "colab": {
          "base_uri": "https://localhost:8080/"
        }
      },
      "outputs": [
        {
          "output_type": "stream",
          "name": "stdout",
          "text": [
            "Kullanıcı adınızı girin: nujendr\n",
            "Şifrenizi girin: xyrez\n",
            "Hesabınız oluşturuldu.\n"
          ]
        }
      ],
      "source": [
        "def hesap_olustur():\n",
        "    kullanici_adi = input(\"Kullanıcı adınızı girin: \")\n",
        "\n",
        "    while True:\n",
        "        sifre = input(\"Şifrenizi girin: \")\n",
        "\n",
        "        if 5 <= len(sifre) <= 10:\n",
        "            print(\"Hesabınız oluşturuldu.\")\n",
        "            break\n",
        "        else:\n",
        "            print(\"Lütfen girdiniz şifre 5 haneden az 10 haneden fazla olmasın!\")\n",
        "\n",
        "hesap_olustur()\n"
      ]
    },
    {
      "cell_type": "markdown",
      "source": [],
      "metadata": {
        "id": "x6u2WJHybefy"
      },
      "id": "x6u2WJHybefy"
    },
    {
      "cell_type": "markdown",
      "id": "8ba81863",
      "metadata": {
        "id": "8ba81863"
      },
      "source": [
        "**Ödev-4:** Kullanıcıdan isim ve şifre isteyeceğiz ve şifre girişi için üç hak verilir.\n",
        "\n",
        "1. Eğer önceden tanımlı şifre ile kullanıcıdan gelen şifre aynıysa \"Giriş yapıldı.\" yazar.\n",
        "2. Şifre girişi yanlışsa \"Yanlış şifre girildi!\" uyarısı verilsin ve üç yanlış denemede program biter.\n",
        "3. Tercihe göre kalan hak bilgisi verilir."
      ]
    },
    {
      "cell_type": "code",
      "execution_count": null,
      "id": "8f45ea0c",
      "metadata": {
        "id": "8f45ea0c",
        "outputId": "807d5d2a-e2cb-4d47-c036-88d4f60030d1",
        "colab": {
          "base_uri": "https://localhost:8080/"
        }
      },
      "outputs": [
        {
          "output_type": "stream",
          "name": "stdout",
          "text": [
            "İsminizi girin: nujend\n",
            "Şifrenizi girin: xyrez\n",
            "Yanlış şifre girildi! Kalan hak: 2\n",
            "Şifrenizi girin: xyrez\n",
            "Yanlış şifre girildi! Kalan hak: 1\n"
          ]
        }
      ],
      "source": [
        "def giris_yap():\n",
        "    tanimli_sifre = \"gizli123\"  # Önceden tanımlı şifre\n",
        "    hak = 3  # Başlangıç hakkı\n",
        "\n",
        "    isim = input(\"İsminizi girin: \")\n",
        "\n",
        "    while hak > 0:\n",
        "        sifre = input(\"Şifrenizi girin: \")\n",
        "\n",
        "        if sifre == tanimli_sifre:\n",
        "            print(\"Giriş yapıldı.\")\n",
        "            break\n",
        "        else:\n",
        "            hak -= 1\n",
        "            print(\"Yanlış şifre girildi! Kalan hak: {}\".format(hak))\n",
        "\n",
        "        if hak == 0:\n",
        "            print(\"Üç yanlış deneme ile program sonlandı.\")\n",
        "\n",
        "giris_yap()\n"
      ]
    }
  ],
  "metadata": {
    "kernelspec": {
      "display_name": "Python 3 (ipykernel)",
      "language": "python",
      "name": "python3"
    },
    "language_info": {
      "codemirror_mode": {
        "name": "ipython",
        "version": 3
      },
      "file_extension": ".py",
      "mimetype": "text/x-python",
      "name": "python",
      "nbconvert_exporter": "python",
      "pygments_lexer": "ipython3",
      "version": "3.9.12"
    },
    "colab": {
      "provenance": [],
      "include_colab_link": true
    }
  },
  "nbformat": 4,
  "nbformat_minor": 5
}